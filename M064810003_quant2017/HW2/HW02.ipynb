{
 "cells": [
  {
   "cell_type": "code",
   "execution_count": 3,
   "metadata": {
    "collapsed": true
   },
   "outputs": [],
   "source": [
    "import os\n",
    "#載入模組"
   ]
  },
  {
   "cell_type": "code",
   "execution_count": 4,
   "metadata": {
    "collapsed": true
   },
   "outputs": [],
   "source": [
    "def main(): #定義函數\n",
    "    print('Hello world') #印出 Hello world\n",
    "    \n",
    "    print(\"This is Alice's greeting.\")  #印出字串 雙引號或單引號皆可 但須一致\n",
    "    print('This is Bob\\'s greeting.')   \n",
    "    "
   ]
  },
  {
   "cell_type": "code",
   "execution_count": 12,
   "metadata": {},
   "outputs": [
    {
     "name": "stdout",
     "output_type": "stream",
     "text": [
      "%S plus %S is equal to %S\n",
      "foo\n"
     ]
    },
    {
     "data": {
      "text/plain": [
       "15"
      ]
     },
     "execution_count": 12,
     "metadata": {},
     "output_type": "execute_result"
    }
   ],
   "source": [
    "foo(5, 10) \n",
    "#定義函數"
   ]
  },
  {
   "cell_type": "code",
   "execution_count": 6,
   "metadata": {},
   "outputs": [
    {
     "name": "stdout",
     "output_type": "stream",
     "text": [
      "==========\n"
     ]
    }
   ],
   "source": [
    "print('='* 10) \n",
    "#將等號變成字串並複製10次"
   ]
  },
  {
   "cell_type": "code",
   "execution_count": 7,
   "metadata": {
    "collapsed": true
   },
   "outputs": [],
   "source": [
    "counter= 0 \n",
    "counter += 1\n",
    "#舉例    "
   ]
  },
  {
   "cell_type": "code",
   "execution_count": 8,
   "metadata": {
    "collapsed": true
   },
   "outputs": [],
   "source": [
    "food=['apple','oranges','cats'] \n",
    " #定義food為列表型態 裡面內容可為各種型態"
   ]
  },
  {
   "cell_type": "code",
   "execution_count": 9,
   "metadata": {},
   "outputs": [
    {
     "name": "stdout",
     "output_type": "stream",
     "text": [
      "I like to eatapple\n",
      "I like to eatoranges\n",
      "I like to eatcats\n"
     ]
    }
   ],
   "source": [
    "for i in food: \n",
    "    print('I like to eat' + i)  \n",
    "    #迴圈，重複執行 並將food裡面所放的代進 i\n",
    "    #印出 I like to 食物名稱"
   ]
  },
  {
   "cell_type": "code",
   "execution_count": 10,
   "metadata": {},
   "outputs": [
    {
     "name": "stdout",
     "output_type": "stream",
     "text": [
      "count to ten\n",
      "0\n",
      "1\n",
      "2\n",
      "3\n",
      "4\n",
      "5\n",
      "6\n",
      "7\n",
      "8\n",
      "9\n"
     ]
    }
   ],
   "source": [
    "print('count to ten')\n",
    "for i in range(10):\n",
    "    print(i)\n",
    "#印出 count to ten 並印出0~9"
   ]
  },
  {
   "cell_type": "code",
   "execution_count": 11,
   "metadata": {},
   "outputs": [
    {
     "data": {
      "text/plain": [
       "'A multi-line string, but can also be a multi-line comment.'"
      ]
     },
     "execution_count": 11,
     "metadata": {},
     "output_type": "execute_result"
    }
   ],
   "source": [
    "def foo(param1, secondParam): #定義foo(參數1,參數2)，且定義res=參數1+參數2\n",
    "    res=param1 + secondParam \n",
    "    \n",
    "    print ('%S plus %S is equal to %S') #印出param1加secondParam等於res\n",
    "    \n",
    "    if res < 50:  \n",
    "        print('foo') \n",
    "    \n",
    "    elif (res >=50) and ((paraml == 42) or (secondParam ==24)): \n",
    "        print('bar') \n",
    "    \n",
    "    else:\n",
    "        print('moo') #判斷式 \n",
    "    \n",
    "    return res #This is a one-line comment. #符號作為單行註解\n",
    "'''A multi-line string, but can also be a multi-line comment.''' "
   ]
  },
  {
   "cell_type": "code",
   "execution_count": null,
   "metadata": {
    "collapsed": true
   },
   "outputs": [],
   "source": []
  }
 ],
 "metadata": {
  "kernelspec": {
   "display_name": "Python 3",
   "language": "python",
   "name": "python3"
  },
  "language_info": {
   "codemirror_mode": {
    "name": "ipython",
    "version": 3
   },
   "file_extension": ".py",
   "mimetype": "text/x-python",
   "name": "python",
   "nbconvert_exporter": "python",
   "pygments_lexer": "ipython3",
   "version": "3.6.2"
  }
 },
 "nbformat": 4,
 "nbformat_minor": 2
}
