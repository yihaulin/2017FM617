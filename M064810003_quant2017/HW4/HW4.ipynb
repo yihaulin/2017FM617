{
 "cells": [
  {
   "cell_type": "markdown",
   "metadata": {},
   "source": [
    "# Q1.九九乘法表"
   ]
  },
  {
   "cell_type": "code",
   "execution_count": 96,
   "metadata": {},
   "outputs": [
    {
     "name": "stdout",
     "output_type": "stream",
     "text": [
      "1X1=1\t2X1=2\t3X1=3\t\n",
      "1X2=2\t2X2=4\t3X2=6\t\n",
      "1X3=3\t2X3=6\t3X3=9\t\n",
      "1X4=4\t2X4=8\t3X4=12\t\n",
      "1X5=5\t2X5=10\t3X5=15\t\n",
      "1X6=6\t2X6=12\t3X6=18\t\n",
      "1X7=7\t2X7=14\t3X7=21\t\n",
      "1X8=8\t2X8=16\t3X8=24\t\n",
      "1X9=9\t2X9=18\t3X9=27\t\n",
      "\n",
      "\n",
      "4X1=4\t5X1=5\t6X1=6\t\n",
      "4X2=8\t5X2=10\t6X2=12\t\n",
      "4X3=12\t5X3=15\t6X3=18\t\n",
      "4X4=16\t5X4=20\t6X4=24\t\n",
      "4X5=20\t5X5=25\t6X5=30\t\n",
      "4X6=24\t5X6=30\t6X6=36\t\n",
      "4X7=28\t5X7=35\t6X7=42\t\n",
      "4X8=32\t5X8=40\t6X8=48\t\n",
      "4X9=36\t5X9=45\t6X9=54\t\n",
      "\n",
      "\n",
      "7X1=7\t8X1=8\t9X1=9\t\n",
      "7X2=14\t8X2=16\t9X2=18\t\n",
      "7X3=21\t8X3=24\t9X3=27\t\n",
      "7X4=28\t8X4=32\t9X4=36\t\n",
      "7X5=35\t8X5=40\t9X5=45\t\n",
      "7X6=42\t8X6=48\t9X6=54\t\n",
      "7X7=49\t8X7=56\t9X7=63\t\n",
      "7X8=56\t8X8=64\t9X8=72\t\n",
      "7X9=63\t8X9=72\t9X9=81\t\n",
      "\n",
      "\n"
     ]
    }
   ],
   "source": [
    "def multiplication_table(m, n):\n",
    "    for i in range(1,10):\n",
    "          for j in range(m,n+1):\n",
    "                print(j, 'X', i, '=', i*j,'\\t',sep='',end='')\n",
    "          print()\n",
    "    print('\\n')\n",
    "multiplication_table(1,3) \n",
    "multiplication_table(4,6)\n",
    "multiplication_table(7,9)"
   ]
  },
  {
   "cell_type": "markdown",
   "metadata": {},
   "source": [
    "# Q2.金字塔"
   ]
  },
  {
   "cell_type": "code",
   "execution_count": 127,
   "metadata": {},
   "outputs": [
    {
     "name": "stdout",
     "output_type": "stream",
     "text": [
      "     \n",
      "    *\n",
      "   ***\n",
      "  *****\n",
      " *******\n",
      "*********\n"
     ]
    }
   ],
   "source": [
    "def pyramid(t):   \n",
    "    for i in range(t+1):\n",
    "        print(' '*(t-i)+(\"*\"*((i)*2-1))) \n",
    "pyramid(5)"
   ]
  },
  {
   "cell_type": "markdown",
   "metadata": {},
   "source": [
    "# Q3.將 Q1 跟 Q2 的函式寫入一個模組，並呼叫模組裡面的函式來使用。"
   ]
  },
  {
   "cell_type": "code",
   "execution_count": 153,
   "metadata": {},
   "outputs": [],
   "source": [
    "import HW04"
   ]
  },
  {
   "cell_type": "code",
   "execution_count": 154,
   "metadata": {},
   "outputs": [
    {
     "name": "stdout",
     "output_type": "stream",
     "text": [
      "1X1=1\t2X1=2\t3X1=3\t\n",
      "1X2=2\t2X2=4\t3X2=6\t\n",
      "1X3=3\t2X3=6\t3X3=9\t\n",
      "1X4=4\t2X4=8\t3X4=12\t\n",
      "1X5=5\t2X5=10\t3X5=15\t\n",
      "1X6=6\t2X6=12\t3X6=18\t\n",
      "1X7=7\t2X7=14\t3X7=21\t\n",
      "1X8=8\t2X8=16\t3X8=24\t\n",
      "1X9=9\t2X9=18\t3X9=27\t\n",
      "\n",
      "\n",
      "4X1=4\t5X1=5\t6X1=6\t\n",
      "4X2=8\t5X2=10\t6X2=12\t\n",
      "4X3=12\t5X3=15\t6X3=18\t\n",
      "4X4=16\t5X4=20\t6X4=24\t\n",
      "4X5=20\t5X5=25\t6X5=30\t\n",
      "4X6=24\t5X6=30\t6X6=36\t\n",
      "4X7=28\t5X7=35\t6X7=42\t\n",
      "4X8=32\t5X8=40\t6X8=48\t\n",
      "4X9=36\t5X9=45\t6X9=54\t\n",
      "\n",
      "\n",
      "7X1=7\t8X1=8\t9X1=9\t\n",
      "7X2=14\t8X2=16\t9X2=18\t\n",
      "7X3=21\t8X3=24\t9X3=27\t\n",
      "7X4=28\t8X4=32\t9X4=36\t\n",
      "7X5=35\t8X5=40\t9X5=45\t\n",
      "7X6=42\t8X6=48\t9X6=54\t\n",
      "7X7=49\t8X7=56\t9X7=63\t\n",
      "7X8=56\t8X8=64\t9X8=72\t\n",
      "7X9=63\t8X9=72\t9X9=81\t\n",
      "\n",
      "\n"
     ]
    }
   ],
   "source": [
    "HW04.multiplication_table(1,3) \n",
    "HW04.multiplication_table(4,6)\n",
    "HW04.multiplication_table(7,9)"
   ]
  },
  {
   "cell_type": "code",
   "execution_count": 156,
   "metadata": {},
   "outputs": [
    {
     "name": "stdout",
     "output_type": "stream",
     "text": [
      "     \n",
      "    *\n",
      "   ***\n",
      "  *****\n",
      " *******\n",
      "*********\n"
     ]
    }
   ],
   "source": [
    "HW04.pyramid(5)"
   ]
  }
 ],
 "metadata": {
  "kernelspec": {
   "display_name": "Python 3",
   "language": "python",
   "name": "python3"
  },
  "language_info": {
   "codemirror_mode": {
    "name": "ipython",
    "version": 3
   },
   "file_extension": ".py",
   "mimetype": "text/x-python",
   "name": "python",
   "nbconvert_exporter": "python",
   "pygments_lexer": "ipython3",
   "version": "3.6.2"
  }
 },
 "nbformat": 4,
 "nbformat_minor": 2
}
